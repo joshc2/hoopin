{
 "cells": [
  {
   "cell_type": "code",
   "execution_count": null,
   "metadata": {},
   "outputs": [],
   "source": [
    "import hoopin"
   ]
  },
  {
   "cell_type": "code",
   "execution_count": null,
   "metadata": {},
   "outputs": [],
   "source": [
    "data = hoopin.load_data()\n",
    "data.head(3)"
   ]
  },
  {
   "cell_type": "code",
   "execution_count": null,
   "metadata": {},
   "outputs": [],
   "source": [
    "selected_columns = ['3P%','2P%', 'AST','TRB','STL',\"TS%\", 'W', 'L']\n",
    "\n",
    "hoopin.run_regression(selected_columns,data)\n",
    "\n"
   ]
  },
  {
   "cell_type": "code",
   "execution_count": null,
   "metadata": {},
   "outputs": [],
   "source": [
    "# show_visualizations()\n",
    "hoopin.show_actual_predicted()"
   ]
  },
  {
   "cell_type": "code",
   "execution_count": null,
   "metadata": {},
   "outputs": [],
   "source": [
    "hoopin.show_residuals_distribution()\n",
    "hoopin.show_correlation_heatmap()\n",
    "hoopin.show_pairplot()\n",
    "hoopin.show_residuals()\n"
   ]
  },
  {
   "cell_type": "code",
   "execution_count": null,
   "metadata": {},
   "outputs": [],
   "source": [
    "hoopin.show_actual_predicted()\n"
   ]
  },
  {
   "cell_type": "code",
   "execution_count": null,
   "metadata": {},
   "outputs": [],
   "source": [
    "hoopin.show_barchart()\n"
   ]
  },
  {
   "cell_type": "code",
   "execution_count": null,
   "metadata": {},
   "outputs": [],
   "source": [
    "\n",
    "hoopin.show_correlation_heatmap()\n"
   ]
  },
  {
   "cell_type": "code",
   "execution_count": null,
   "metadata": {},
   "outputs": [],
   "source": [
    "hoopin.show_pairplot()\n"
   ]
  },
  {
   "cell_type": "code",
   "execution_count": null,
   "metadata": {},
   "outputs": [],
   "source": [
    "hoopin.show_residuals()\n"
   ]
  },
  {
   "cell_type": "code",
   "execution_count": null,
   "metadata": {},
   "outputs": [],
   "source": [
    "from sklearn.model_selection import train_test_split\n",
    "from sklearn.linear_model import LinearRegression\n",
    "from sklearn.metrics import mean_squared_error, r2_score\n",
    "import matplotlib.pyplot as plt\n",
    "import pandas as pd\n",
    "import seaborn as sns\n",
    "\n",
    "\n",
    "all_data_1 =  data\n",
    "\n",
    "selected_columns = ['3P%','2P%', 'AST','TRB','STL',\"TS%\", 'W', 'L']\n",
    "\n",
    "\n",
    "# Split the data into predictor variables (X) and target variable (Y)\n",
    "X = all_data_1[selected_columns[:-2]]  # All columns except 'W' and 'L'\n",
    "Y = all_data_1['W']\n",
    "\n",
    "# Split the data into training and testing sets\n",
    "X_train, X_test, Y_train, Y_test = train_test_split(X, Y, test_size=0.2, random_state=0)\n",
    "\n",
    "# Create a linear regression model, fit it to the training data, and make predictions\n",
    "model = LinearRegression()\n",
    "model.fit(X_train, Y_train)\n",
    "Y_pred = model.predict(X_test)\n",
    "\n",
    "\n",
    "\n",
    "coefficients = pd.Series(model.coef_, index=X.columns)\n",
    "sorted_coefficients = coefficients.abs().sort_values(ascending=False)\n",
    "\n",
    "\n",
    "\n",
    "\n",
    "# Visualization 2: Bar chart of Coefficients\n",
    "coefficients = coefficients.sort_values(ascending=True)\n",
    "coefficients = pd.Series(model.coef_, index=X.columns)\n",
    "coefficients = coefficients.sort_values(ascending=True)\n",
    "\n",
    "plt.figure(figsize=(10, 6))\n",
    "coefficients.plot(kind='barh')  # Use 'barh' for horizontal bar chart\n",
    "plt.title('Coefficients of the Linear Regression Model')\n",
    "plt.xlabel('Coefficient Value')\n",
    "plt.ylabel('Predictor Variables')\n",
    "plt.show()\n"
   ]
  },
  {
   "cell_type": "code",
   "execution_count": null,
   "metadata": {},
   "outputs": [],
   "source": []
  }
 ],
 "metadata": {
  "kernelspec": {
   "display_name": "base",
   "language": "python",
   "name": "python3"
  },
  "language_info": {
   "codemirror_mode": {
    "name": "ipython",
    "version": 3
   },
   "file_extension": ".py",
   "mimetype": "text/x-python",
   "name": "python",
   "nbconvert_exporter": "python",
   "pygments_lexer": "ipython3",
   "version": "3.11.4"
  }
 },
 "nbformat": 4,
 "nbformat_minor": 2
}
